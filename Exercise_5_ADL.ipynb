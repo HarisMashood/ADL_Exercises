{
  "nbformat": 4,
  "nbformat_minor": 0,
  "metadata": {
    "colab": {
      "provenance": [],
      "gpuType": "T4",
      "authorship_tag": "ABX9TyPElXW1mvhiXiYBUfgGRsdA",
      "include_colab_link": true
    },
    "kernelspec": {
      "name": "python3",
      "display_name": "Python 3"
    },
    "language_info": {
      "name": "python"
    },
    "accelerator": "GPU"
  },
  "cells": [
    {
      "cell_type": "markdown",
      "metadata": {
        "id": "view-in-github",
        "colab_type": "text"
      },
      "source": [
        "<a href=\"https://colab.research.google.com/github/HarisMashood/ADL_Exercises/blob/main/Exercise_5_ADL.ipynb\" target=\"_parent\"><img src=\"https://colab.research.google.com/assets/colab-badge.svg\" alt=\"Open In Colab\"/></a>"
      ]
    },
    {
      "cell_type": "markdown",
      "source": [
        "\n",
        "## Student Name: Haris Mashood\n",
        "## Student Number: 2413298\n",
        "## Campus: Joensuu"
      ],
      "metadata": {
        "id": "Yvt3SGwJqOBL"
      }
    },
    {
      "cell_type": "markdown",
      "source": [
        "# Exercise 5:"
      ],
      "metadata": {
        "id": "HavMhG9tqQEZ"
      }
    },
    {
      "cell_type": "code",
      "execution_count": 15,
      "metadata": {
        "id": "YPHa_8MuqGA9"
      },
      "outputs": [],
      "source": [
        "import tensorflow as tf\n",
        "from tensorflow.keras.preprocessing.image import load_img, img_to_array\n",
        "from tensorflow.keras import layers, models, Input\n",
        "import numpy as np\n",
        "import matplotlib.pyplot as plt\n",
        "from scipy.ndimage import rotate"
      ]
    },
    {
      "cell_type": "code",
      "source": [
        "# Function to load and preprocess an image\n",
        "def load_and_preprocess_image(image_path, target_size=(32, 32)):\n",
        "    img = load_img(image_path, target_size=target_size)\n",
        "    img_array = img_to_array(img)\n",
        "    img_array = img_array.astype('float32') / 255.0\n",
        "    return img_array"
      ],
      "metadata": {
        "id": "pxLxKj6g4s3y"
      },
      "execution_count": 16,
      "outputs": []
    },
    {
      "cell_type": "code",
      "source": [
        "# Function to create a CNN model\n",
        "def create_cnn(input_shape):\n",
        "    inputs = Input(shape=input_shape)\n",
        "    x = layers.Conv2D(32, (3, 3), activation='relu')(inputs)\n",
        "    x = layers.MaxPooling2D((2, 2))(x)\n",
        "    x = layers.Conv2D(64, (3, 3), activation='relu')(x)\n",
        "    x = layers.MaxPooling2D((2, 2))(x)\n",
        "    x = layers.Conv2D(64, (3, 3), activation='relu')(x)\n",
        "    x = layers.Flatten()(x)\n",
        "    x = layers.Dense(64, activation='relu')(x)\n",
        "    outputs = layers.Dense(10, activation='softmax')(x)\n",
        "    model = models.Model(inputs, outputs)\n",
        "    return model"
      ],
      "metadata": {
        "id": "wXIUlQku4viT"
      },
      "execution_count": 17,
      "outputs": []
    },
    {
      "cell_type": "code",
      "source": [
        "# Function to apply horizontal and vertical flip augmentation\n",
        "def test_augmentation(image_path, model):\n",
        "    img_array = load_and_preprocess_image(image_path, target_size=(32, 32))\n",
        "    horizontal_flip = tf.image.flip_left_right(img_array)\n",
        "    vertical_flip = tf.image.flip_up_down(img_array)\n",
        "\n",
        "    # Show augmented images\n",
        "    plt.figure(figsize=(12, 4))\n",
        "    titles = [\"Original\", \"Horizontal Flip\", \"Vertical Flip\"]\n",
        "    images = [img_array, horizontal_flip, vertical_flip]\n",
        "    for i, (img, title) in enumerate(zip(images, titles)):\n",
        "        plt.subplot(1, 3, i + 1)\n",
        "        plt.imshow(img)\n",
        "        plt.title(title)\n",
        "        plt.axis('off')\n",
        "    plt.tight_layout()\n",
        "    plt.show()\n",
        "\n",
        "    # Predictions for augmented images\n",
        "    class_names = ['airplane', 'automobile', 'bird', 'cat', 'deer', 'dog', 'frog', 'horse', 'ship', 'truck']\n",
        "    for img, title in zip(images, titles):\n",
        "        img_expanded = np.expand_dims(img, axis=0)\n",
        "        predictions = model.predict(img_expanded)\n",
        "        predicted_class = class_names[np.argmax(predictions)]\n",
        "        confidence = np.max(predictions) * 100\n",
        "        print(f\"{title}: Predicted class = {predicted_class}, Confidence = {confidence:.2f}%\")"
      ],
      "metadata": {
        "id": "NxAcwVU74zSf"
      },
      "execution_count": 18,
      "outputs": []
    },
    {
      "cell_type": "code",
      "source": [
        "# Function to apply rotation augmentation\n",
        "def test_rotation_augmentation(image_path, model):\n",
        "    img = load_img(image_path, color_mode='grayscale', target_size=(28, 28))\n",
        "    img_array = img_to_array(img)\n",
        "    img_array = img_array.astype('float32') / 255.0\n",
        "\n",
        "    rotation_angles = [0, 30, 45, 60]\n",
        "    rotated_images = []\n",
        "\n",
        "    for angle in rotation_angles:\n",
        "        rotated = rotate(img_array, angle, reshape=False, mode='nearest')\n",
        "        rotated_images.append(rotated)\n",
        "\n",
        "    # Show rotated images\n",
        "    plt.figure(figsize=(15, 5))\n",
        "    for i, (img, angle) in enumerate(zip(rotated_images, rotation_angles)):\n",
        "        plt.subplot(1, 4, i + 1)\n",
        "        plt.imshow(img.squeeze(), cmap='gray')\n",
        "        plt.title(f\"Rotation {angle}°\")\n",
        "        plt.axis('off')\n",
        "    plt.tight_layout()\n",
        "    plt.show()\n",
        "\n",
        "    # Predictions for rotated images\n",
        "    print(\"Predictions for different images:\")\n",
        "    for angle, img in zip(rotation_angles, rotated_images):\n",
        "        pred_input = img.reshape(1, 28, 28, 1)\n",
        "        pred = model.predict(pred_input)\n",
        "        predicted_class = np.argmax(pred)\n",
        "        confidence = np.max(pred) * 100\n",
        "        print(f\"\\nRotation {angle}°:\")\n",
        "        print(f\"Predicted digit: {predicted_class}\")\n",
        "        print(f\"Confidence: {confidence:.2f}%\")"
      ],
      "metadata": {
        "id": "gqxsKrUt4201"
      },
      "execution_count": 19,
      "outputs": []
    },
    {
      "cell_type": "markdown",
      "source": [
        "# Task 1: Load CIFAR-10 dataset and train the model"
      ],
      "metadata": {
        "id": "c73N5LHp48DH"
      }
    },
    {
      "cell_type": "code",
      "source": [
        "(x_train, y_train), (x_test, y_test) = tf.keras.datasets.cifar10.load_data()\n",
        "x_train = x_train.astype('float32') / 255.0\n",
        "x_test = x_test.astype('float32') / 255.0\n",
        "y_train = tf.keras.utils.to_categorical(y_train, 10)\n",
        "y_test = tf.keras.utils.to_categorical(y_test, 10)\n",
        "\n",
        "# Train the model on CIFAR-10\n",
        "task1_model = create_cnn((32, 32, 3))\n",
        "task1_model.compile(optimizer='adam', loss='categorical_crossentropy', metrics=['accuracy'])\n",
        "task1_model.fit(x_train, y_train, epochs=10, validation_data=(x_test, y_test), verbose=1)"
      ],
      "metadata": {
        "colab": {
          "base_uri": "https://localhost:8080/"
        },
        "id": "rs2R53Bh4_0R",
        "outputId": "0291fccb-1af5-4e42-f566-a2947fc31c47"
      },
      "execution_count": 20,
      "outputs": [
        {
          "output_type": "stream",
          "name": "stdout",
          "text": [
            "Epoch 1/10\n",
            "\u001b[1m1563/1563\u001b[0m \u001b[32m━━━━━━━━━━━━━━━━━━━━\u001b[0m\u001b[37m\u001b[0m \u001b[1m10s\u001b[0m 5ms/step - accuracy: 0.3532 - loss: 1.7439 - val_accuracy: 0.5294 - val_loss: 1.2882\n",
            "Epoch 2/10\n",
            "\u001b[1m1563/1563\u001b[0m \u001b[32m━━━━━━━━━━━━━━━━━━━━\u001b[0m\u001b[37m\u001b[0m \u001b[1m4s\u001b[0m 3ms/step - accuracy: 0.5746 - loss: 1.2003 - val_accuracy: 0.5895 - val_loss: 1.1634\n",
            "Epoch 3/10\n",
            "\u001b[1m1563/1563\u001b[0m \u001b[32m━━━━━━━━━━━━━━━━━━━━\u001b[0m\u001b[37m\u001b[0m \u001b[1m5s\u001b[0m 3ms/step - accuracy: 0.6350 - loss: 1.0391 - val_accuracy: 0.6536 - val_loss: 0.9956\n",
            "Epoch 4/10\n",
            "\u001b[1m1563/1563\u001b[0m \u001b[32m━━━━━━━━━━━━━━━━━━━━\u001b[0m\u001b[37m\u001b[0m \u001b[1m9s\u001b[0m 3ms/step - accuracy: 0.6803 - loss: 0.9201 - val_accuracy: 0.6780 - val_loss: 0.9247\n",
            "Epoch 5/10\n",
            "\u001b[1m1563/1563\u001b[0m \u001b[32m━━━━━━━━━━━━━━━━━━━━\u001b[0m\u001b[37m\u001b[0m \u001b[1m5s\u001b[0m 3ms/step - accuracy: 0.7071 - loss: 0.8377 - val_accuracy: 0.6727 - val_loss: 0.9547\n",
            "Epoch 6/10\n",
            "\u001b[1m1563/1563\u001b[0m \u001b[32m━━━━━━━━━━━━━━━━━━━━\u001b[0m\u001b[37m\u001b[0m \u001b[1m5s\u001b[0m 3ms/step - accuracy: 0.7282 - loss: 0.7837 - val_accuracy: 0.6922 - val_loss: 0.8933\n",
            "Epoch 7/10\n",
            "\u001b[1m1563/1563\u001b[0m \u001b[32m━━━━━━━━━━━━━━━━━━━━\u001b[0m\u001b[37m\u001b[0m \u001b[1m5s\u001b[0m 3ms/step - accuracy: 0.7456 - loss: 0.7147 - val_accuracy: 0.6981 - val_loss: 0.8758\n",
            "Epoch 8/10\n",
            "\u001b[1m1563/1563\u001b[0m \u001b[32m━━━━━━━━━━━━━━━━━━━━\u001b[0m\u001b[37m\u001b[0m \u001b[1m5s\u001b[0m 3ms/step - accuracy: 0.7672 - loss: 0.6590 - val_accuracy: 0.7000 - val_loss: 0.8992\n",
            "Epoch 9/10\n",
            "\u001b[1m1563/1563\u001b[0m \u001b[32m━━━━━━━━━━━━━━━━━━━━\u001b[0m\u001b[37m\u001b[0m \u001b[1m4s\u001b[0m 3ms/step - accuracy: 0.7779 - loss: 0.6274 - val_accuracy: 0.7067 - val_loss: 0.8591\n",
            "Epoch 10/10\n",
            "\u001b[1m1563/1563\u001b[0m \u001b[32m━━━━━━━━━━━━━━━━━━━━\u001b[0m\u001b[37m\u001b[0m \u001b[1m7s\u001b[0m 4ms/step - accuracy: 0.7947 - loss: 0.5862 - val_accuracy: 0.7183 - val_loss: 0.8668\n"
          ]
        },
        {
          "output_type": "execute_result",
          "data": {
            "text/plain": [
              "<keras.src.callbacks.history.History at 0x7d71cc387400>"
            ]
          },
          "metadata": {},
          "execution_count": 20
        }
      ]
    },
    {
      "cell_type": "code",
      "source": [
        "# Test on \"dog.jpg\"\n",
        "test_augmentation('dog.jpg', task1_model)"
      ],
      "metadata": {
        "colab": {
          "base_uri": "https://localhost:8080/",
          "height": 507
        },
        "id": "zjKVCcCm5DW-",
        "outputId": "b3fc7a4c-83bd-46dd-c5e6-569f93a78c7d"
      },
      "execution_count": 21,
      "outputs": [
        {
          "output_type": "display_data",
          "data": {
            "text/plain": [
              "<Figure size 1200x400 with 3 Axes>"
            ],
            "image/png": "[encoded data removed]"
          },
          "metadata": {}
        },
        {
          "output_type": "stream",
          "name": "stdout",
          "text": [
            "\u001b[1m1/1\u001b[0m \u001b[32m━━━━━━━━━━━━━━━━━━━━\u001b[0m\u001b[37m\u001b[0m \u001b[1m0s\u001b[0m 308ms/step\n",
            "Original: Predicted class = dog, Confidence = 96.59%\n",
            "\u001b[1m1/1\u001b[0m \u001b[32m━━━━━━━━━━━━━━━━━━━━\u001b[0m\u001b[37m\u001b[0m \u001b[1m0s\u001b[0m 36ms/step\n",
            "Horizontal Flip: Predicted class = dog, Confidence = 74.55%\n",
            "\u001b[1m1/1\u001b[0m \u001b[32m━━━━━━━━━━━━━━━━━━━━\u001b[0m\u001b[37m\u001b[0m \u001b[1m0s\u001b[0m 55ms/step\n",
            "Vertical Flip: Predicted class = dog, Confidence = 95.19%\n"
          ]
        }
      ]
    },
    {
      "cell_type": "markdown",
      "source": [
        "# Task 2: Load MNIST dataset and train the model"
      ],
      "metadata": {
        "id": "QUDa-Bgv4IUh"
      }
    },
    {
      "cell_type": "code",
      "source": [
        "(x_train_mnist, y_train_mnist), (x_test_mnist, y_test_mnist) = tf.keras.datasets.mnist.load_data()\n",
        "x_train_mnist = x_train_mnist.reshape(-1, 28, 28, 1).astype('float32') / 255.0\n",
        "x_test_mnist = x_test_mnist.reshape(-1, 28, 28, 1).astype('float32') / 255.0\n",
        "y_train_mnist = tf.keras.utils.to_categorical(y_train_mnist, 10)\n",
        "y_test_mnist = tf.keras.utils.to_categorical(y_test_mnist, 10)\n",
        "\n",
        "# Train the model on MNIST\n",
        "task2_model = create_cnn((28, 28, 1))\n",
        "task2_model.compile(optimizer='adam', loss='categorical_crossentropy', metrics=['accuracy'])\n",
        "task2_model.fit(x_train_mnist, y_train_mnist, epochs=10, validation_data=(x_test_mnist, y_test_mnist), verbose=1)"
      ],
      "metadata": {
        "colab": {
          "base_uri": "https://localhost:8080/"
        },
        "id": "I9KQSecw4LN6",
        "outputId": "52d6866e-778a-4481-e628-23e82a9c8a36"
      },
      "execution_count": 22,
      "outputs": [
        {
          "output_type": "stream",
          "name": "stdout",
          "text": [
            "Downloading data from https://storage.googleapis.com/tensorflow/tf-keras-datasets/mnist.npz\n",
            "\u001b[1m11490434/11490434\u001b[0m \u001b[32m━━━━━━━━━━━━━━━━━━━━\u001b[0m\u001b[37m\u001b[0m \u001b[1m0s\u001b[0m 0us/step\n",
            "Epoch 1/10\n",
            "\u001b[1m1875/1875\u001b[0m \u001b[32m━━━━━━━━━━━━━━━━━━━━\u001b[0m\u001b[37m\u001b[0m \u001b[1m10s\u001b[0m 4ms/step - accuracy: 0.8938 - loss: 0.3434 - val_accuracy: 0.9843 - val_loss: 0.0456\n",
            "Epoch 2/10\n",
            "\u001b[1m1875/1875\u001b[0m \u001b[32m━━━━━━━━━━━━━━━━━━━━\u001b[0m\u001b[37m\u001b[0m \u001b[1m7s\u001b[0m 3ms/step - accuracy: 0.9844 - loss: 0.0493 - val_accuracy: 0.9866 - val_loss: 0.0424\n",
            "Epoch 3/10\n",
            "\u001b[1m1875/1875\u001b[0m \u001b[32m━━━━━━━━━━━━━━━━━━━━\u001b[0m\u001b[37m\u001b[0m \u001b[1m6s\u001b[0m 3ms/step - accuracy: 0.9897 - loss: 0.0324 - val_accuracy: 0.9907 - val_loss: 0.0283\n",
            "Epoch 4/10\n",
            "\u001b[1m1875/1875\u001b[0m \u001b[32m━━━━━━━━━━━━━━━━━━━━\u001b[0m\u001b[37m\u001b[0m \u001b[1m11s\u001b[0m 4ms/step - accuracy: 0.9922 - loss: 0.0246 - val_accuracy: 0.9899 - val_loss: 0.0323\n",
            "Epoch 5/10\n",
            "\u001b[1m1875/1875\u001b[0m \u001b[32m━━━━━━━━━━━━━━━━━━━━\u001b[0m\u001b[37m\u001b[0m \u001b[1m5s\u001b[0m 3ms/step - accuracy: 0.9935 - loss: 0.0210 - val_accuracy: 0.9912 - val_loss: 0.0322\n",
            "Epoch 6/10\n",
            "\u001b[1m1875/1875\u001b[0m \u001b[32m━━━━━━━━━━━━━━━━━━━━\u001b[0m\u001b[37m\u001b[0m \u001b[1m5s\u001b[0m 3ms/step - accuracy: 0.9948 - loss: 0.0169 - val_accuracy: 0.9898 - val_loss: 0.0366\n",
            "Epoch 7/10\n",
            "\u001b[1m1875/1875\u001b[0m \u001b[32m━━━━━━━━━━━━━━━━━━━━\u001b[0m\u001b[37m\u001b[0m \u001b[1m6s\u001b[0m 3ms/step - accuracy: 0.9956 - loss: 0.0133 - val_accuracy: 0.9909 - val_loss: 0.0312\n",
            "Epoch 8/10\n",
            "\u001b[1m1875/1875\u001b[0m \u001b[32m━━━━━━━━━━━━━━━━━━━━\u001b[0m\u001b[37m\u001b[0m \u001b[1m5s\u001b[0m 3ms/step - accuracy: 0.9965 - loss: 0.0106 - val_accuracy: 0.9931 - val_loss: 0.0263\n",
            "Epoch 9/10\n",
            "\u001b[1m1875/1875\u001b[0m \u001b[32m━━━━━━━━━━━━━━━━━━━━\u001b[0m\u001b[37m\u001b[0m \u001b[1m10s\u001b[0m 3ms/step - accuracy: 0.9975 - loss: 0.0083 - val_accuracy: 0.9930 - val_loss: 0.0254\n",
            "Epoch 10/10\n",
            "\u001b[1m1875/1875\u001b[0m \u001b[32m━━━━━━━━━━━━━━━━━━━━\u001b[0m\u001b[37m\u001b[0m \u001b[1m6s\u001b[0m 3ms/step - accuracy: 0.9975 - loss: 0.0081 - val_accuracy: 0.9906 - val_loss: 0.0367\n"
          ]
        },
        {
          "output_type": "execute_result",
          "data": {
            "text/plain": [
              "<keras.src.callbacks.history.History at 0x7d71f1dbd810>"
            ]
          },
          "metadata": {},
          "execution_count": 22
        }
      ]
    },
    {
      "cell_type": "code",
      "source": [
        "# Test on \"handwritten6.jpg\"\n",
        "test_rotation_augmentation('handwritten6.jpg', task2_model)"
      ],
      "metadata": {
        "colab": {
          "base_uri": "https://localhost:8080/",
          "height": 679
        },
        "id": "fgJst3tT5Rdy",
        "outputId": "eabb3dc2-6cba-4d82-f48b-d2f57f1d35e1"
      },
      "execution_count": 23,
      "outputs": [
        {
          "output_type": "display_data",
          "data": {
            "text/plain": [
              "<Figure size 1500x500 with 4 Axes>"
            ],
            "image/png": "[encoded data removed]"
          },
          "metadata": {}
        },
        {
          "output_type": "stream",
          "name": "stdout",
          "text": [
            "Predictions for different images:\n",
            "\u001b[1m1/1\u001b[0m \u001b[32m━━━━━━━━━━━━━━━━━━━━\u001b[0m\u001b[37m\u001b[0m \u001b[1m0s\u001b[0m 429ms/step\n",
            "\n",
            "Rotation 0°:\n",
            "Predicted digit: 5\n",
            "Confidence: 98.42%\n",
            "\u001b[1m1/1\u001b[0m \u001b[32m━━━━━━━━━━━━━━━━━━━━\u001b[0m\u001b[37m\u001b[0m \u001b[1m0s\u001b[0m 16ms/step\n",
            "\n",
            "Rotation 30°:\n",
            "Predicted digit: 5\n",
            "Confidence: 91.54%\n",
            "\u001b[1m1/1\u001b[0m \u001b[32m━━━━━━━━━━━━━━━━━━━━\u001b[0m\u001b[37m\u001b[0m \u001b[1m0s\u001b[0m 14ms/step\n",
            "\n",
            "Rotation 45°:\n",
            "Predicted digit: 5\n",
            "Confidence: 50.95%\n",
            "\u001b[1m1/1\u001b[0m \u001b[32m━━━━━━━━━━━━━━━━━━━━\u001b[0m\u001b[37m\u001b[0m \u001b[1m0s\u001b[0m 19ms/step\n",
            "\n",
            "Rotation 60°:\n",
            "Predicted digit: 6\n",
            "Confidence: 87.42%\n"
          ]
        }
      ]
    },
    {
      "cell_type": "markdown",
      "source": [
        "# Results Breakdown\n",
        "\n",
        "## CIFAR-10 Dataset:\n",
        "\n",
        "* Achieved 71.83% validation accuracy after 10 epochs.\n",
        "\n",
        "* Predicted the original \"dog\" image with high confidence (96.59%). Horizontal flip confidence dropped to 74.55%, suggesting limited robustness to this augmentation.\n",
        "\n",
        "## MNIST Dataset:\n",
        "\n",
        "* Achieved 99.06% validation accuracy after 10 epochs.\n",
        "\n",
        "* Did not perform that well, it was able to predict \"6\" at 60° rotation whereas for 0°, 30°, and 45° all predicted \"5\" which is wrong."
      ],
      "metadata": {
        "id": "IX6RFAUqAy8h"
      }
    }
  ]
}